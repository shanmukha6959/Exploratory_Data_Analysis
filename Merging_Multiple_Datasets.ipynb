{
 "cells": [
  {
   "cell_type": "markdown",
   "id": "ea9cc4c0",
   "metadata": {},
   "source": [
    "### Merging Multiple Datasets\n",
    "\n",
    "We can merge datasets when,\n",
    "\n",
    "- we have multiple small datasets\n",
    "- We need a large dataset for deep learning"
   ]
  },
  {
   "cell_type": "markdown",
   "id": "eff6ea01",
   "metadata": {},
   "source": [
    "#### Problem Statement:\n",
    "    \n",
    "Predicting weight of person based on his/her height. Using height and weight datsets."
   ]
  },
  {
   "cell_type": "markdown",
   "id": "b66306e7",
   "metadata": {},
   "source": [
    "#### Datasets\n",
    "\n",
    "https://www.kaggle.com/datasets/mustafaali96/weight-height\n",
    "    \n",
    "https://www.kaggle.com/datasets/burnoutminer/heights-and-weights-dataset"
   ]
  },
  {
   "cell_type": "markdown",
   "id": "1a3b5d3e",
   "metadata": {},
   "source": [
    "#### Things to keep in mind\n",
    "\n",
    "- Number of features (Tabular)/characterisitcs (Image) in datasets\n",
    "- Unit of each feature value. \n",
    "    - Ex. Height in inches, cm, meter, feets.\n",
    "- distribution of data - Is data set balanced one?"
   ]
  },
  {
   "cell_type": "markdown",
   "id": "23a4db4d",
   "metadata": {},
   "source": [
    "##### For example, we are solving a classification problem and we are having a data related to male and female. Then we have to make sure that if we are trying to classify based on the characterstics like whether this record is related to male or female. In that we need to make sure that we have a balanced data i.e. each class is having similar number of records in the dataset. "
   ]
  },
  {
   "cell_type": "code",
   "execution_count": 1,
   "id": "4bafd938",
   "metadata": {},
   "outputs": [],
   "source": [
    "import pandas as pd"
   ]
  },
  {
   "cell_type": "markdown",
   "id": "c30c9181",
   "metadata": {},
   "source": [
    "#### Dataset1"
   ]
  },
  {
   "cell_type": "code",
   "execution_count": null,
   "id": "54aadf55",
   "metadata": {},
   "outputs": [],
   "source": []
  },
  {
   "cell_type": "code",
   "execution_count": null,
   "id": "1ef3cef4",
   "metadata": {},
   "outputs": [],
   "source": []
  },
  {
   "cell_type": "code",
   "execution_count": null,
   "id": "0a19ffa3",
   "metadata": {},
   "outputs": [],
   "source": []
  },
  {
   "cell_type": "code",
   "execution_count": null,
   "id": "1a30e71e",
   "metadata": {},
   "outputs": [],
   "source": []
  },
  {
   "cell_type": "markdown",
   "id": "c344d8c3",
   "metadata": {},
   "source": [
    "#### Dataset2"
   ]
  },
  {
   "cell_type": "code",
   "execution_count": null,
   "id": "c19b13e5",
   "metadata": {},
   "outputs": [],
   "source": []
  }
 ],
 "metadata": {
  "kernelspec": {
   "display_name": "Python 3 (ipykernel)",
   "language": "python",
   "name": "python3"
  },
  "language_info": {
   "codemirror_mode": {
    "name": "ipython",
    "version": 3
   },
   "file_extension": ".py",
   "mimetype": "text/x-python",
   "name": "python",
   "nbconvert_exporter": "python",
   "pygments_lexer": "ipython3",
   "version": "3.9.7"
  }
 },
 "nbformat": 4,
 "nbformat_minor": 5
}
